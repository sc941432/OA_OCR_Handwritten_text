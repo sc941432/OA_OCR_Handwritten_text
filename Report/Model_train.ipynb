{
 "cells": [
  {
   "cell_type": "code",
   "execution_count": 1,
   "id": "c1276ec2",
   "metadata": {
    "_cell_guid": "b1076dfc-b9ad-4769-8c92-a6c4dae69d19",
    "_uuid": "8f2839f25d086af736a60e9eeb907d3b93b6e0e5",
    "execution": {
     "iopub.execute_input": "2023-02-07T13:03:27.318607Z",
     "iopub.status.busy": "2023-02-07T13:03:27.317630Z",
     "iopub.status.idle": "2023-02-07T13:03:34.841048Z",
     "shell.execute_reply": "2023-02-07T13:03:34.839892Z"
    },
    "papermill": {
     "duration": 7.533078,
     "end_time": "2023-02-07T13:03:34.844201",
     "exception": false,
     "start_time": "2023-02-07T13:03:27.311123",
     "status": "completed"
    },
    "tags": []
   },
   "outputs": [],
   "source": [
    "import numpy as np\n",
    "import pandas as pd\n",
    "import cv2\n",
    "import os\n",
    "import matplotlib.pyplot as plt\n",
    "\n",
    "import tensorflow as tf\n",
    "import keras\n",
    "from keras import layers, models"
   ]
  },
  {
   "cell_type": "markdown",
   "id": "9fa0efab",
   "metadata": {
    "papermill": {
     "duration": 0.002978,
     "end_time": "2023-02-07T13:03:34.850879",
     "exception": false,
     "start_time": "2023-02-07T13:03:34.847901",
     "status": "completed"
    },
    "tags": []
   },
   "source": [
    "### Image pre processor for feeding into model"
   ]
  },
  {
   "cell_type": "code",
   "execution_count": 2,
   "id": "2860118c",
   "metadata": {
    "execution": {
     "iopub.execute_input": "2023-02-07T13:03:34.859056Z",
     "iopub.status.busy": "2023-02-07T13:03:34.858401Z",
     "iopub.status.idle": "2023-02-07T13:03:34.865137Z",
     "shell.execute_reply": "2023-02-07T13:03:34.863966Z"
    },
    "papermill": {
     "duration": 0.013501,
     "end_time": "2023-02-07T13:03:34.867488",
     "exception": false,
     "start_time": "2023-02-07T13:03:34.853987",
     "status": "completed"
    },
    "tags": []
   },
   "outputs": [],
   "source": [
    "def preprocessImage(imgPath, shape):\n",
    "    img = cv2.imread(imgPath)\n",
    "    img = cv2.cvtColor(img, cv2.COLOR_BGR2GRAY)\n",
    "    img = cv2.resize(img, (shape))\n",
    "    img = (img/255).astype(np.float32)\n",
    "    img = img.T\n",
    "    img = np.expand_dims(img, axis=-1)\n",
    "    return img"
   ]
  },
  {
   "cell_type": "markdown",
   "id": "23f4d5d0",
   "metadata": {
    "papermill": {
     "duration": 0.002919,
     "end_time": "2023-02-07T13:03:34.873796",
     "exception": false,
     "start_time": "2023-02-07T13:03:34.870877",
     "status": "completed"
    },
    "tags": []
   },
   "source": [
    "### For encoding labels into numbers and decoding"
   ]
  },
  {
   "cell_type": "code",
   "execution_count": 4,
   "id": "fbfd0abb",
   "metadata": {
    "execution": {
     "iopub.execute_input": "2023-02-07T13:03:34.882282Z",
     "iopub.status.busy": "2023-02-07T13:03:34.881409Z",
     "iopub.status.idle": "2023-02-07T13:03:34.888624Z",
     "shell.execute_reply": "2023-02-07T13:03:34.887837Z"
    },
    "papermill": {
     "duration": 0.014068,
     "end_time": "2023-02-07T13:03:34.891032",
     "exception": false,
     "start_time": "2023-02-07T13:03:34.876964",
     "status": "completed"
    },
    "tags": []
   },
   "outputs": [],
   "source": [
    "label2char ={0: ' ',\n",
    " 1: \"'\",\n",
    " 2: '-',\n",
    " 3: 'A',\n",
    " 4: 'B',\n",
    " 5: 'C',\n",
    " 6: 'D',\n",
    " 7: 'E',\n",
    " 8: 'F',\n",
    " 9: 'G',\n",
    " 10: 'H',\n",
    " 11: 'I',\n",
    " 12: 'J',\n",
    " 13: 'K',\n",
    " 14: 'L',\n",
    " 15: 'M',\n",
    " 16: 'N',\n",
    " 17: 'O',\n",
    " 18: 'P',\n",
    " 19: 'Q',\n",
    " 20: 'R',\n",
    " 21: 'S',\n",
    " 22: 'T',\n",
    " 23: 'U',\n",
    " 24: 'V',\n",
    " 25: 'W',\n",
    " 26: 'X',\n",
    " 27: 'Y',\n",
    " 28: 'Z',\n",
    " 29: '`'}\n",
    "\n",
    "def getStringFromEncode(lst :list):\n",
    "    return ''.join([label2char[i] if i in label2char else '' for i in lst])"
   ]
  },
  {
   "cell_type": "markdown",
   "id": "42065bfb",
   "metadata": {
    "papermill": {
     "duration": 0.003045,
     "end_time": "2023-02-07T13:03:34.897526",
     "exception": false,
     "start_time": "2023-02-07T13:03:34.894481",
     "status": "completed"
    },
    "tags": []
   },
   "source": [
    "## Model"
   ]
  },
  {
   "cell_type": "code",
   "execution_count": 5,
   "id": "5987337e",
   "metadata": {
    "execution": {
     "iopub.execute_input": "2023-02-07T13:03:34.905944Z",
     "iopub.status.busy": "2023-02-07T13:03:34.905345Z",
     "iopub.status.idle": "2023-02-07T13:03:36.854359Z",
     "shell.execute_reply": "2023-02-07T13:03:36.853251Z"
    },
    "papermill": {
     "duration": 1.956787,
     "end_time": "2023-02-07T13:03:36.857588",
     "exception": false,
     "start_time": "2023-02-07T13:03:34.900801",
     "status": "completed"
    },
    "tags": []
   },
   "outputs": [
    {
     "name": "stdout",
     "output_type": "stream",
     "text": [
      "WARNING:tensorflow:No training configuration found in the save file, so the model was *not* compiled. Compile it manually.\n"
     ]
    }
   ],
   "source": [
    "model = tf.keras.models.load_model('handwriting_model.h5')"
   ]
  },
  {
   "cell_type": "markdown",
   "id": "de452fec",
   "metadata": {
    "papermill": {
     "duration": 0.003029,
     "end_time": "2023-02-07T13:03:36.864273",
     "exception": false,
     "start_time": "2023-02-07T13:03:36.861244",
     "status": "completed"
    },
    "tags": []
   },
   "source": [
    "## Prediction"
   ]
  },
  {
   "cell_type": "code",
   "execution_count": 6,
   "id": "5e21cfa9",
   "metadata": {
    "execution": {
     "iopub.execute_input": "2023-02-07T13:03:36.872445Z",
     "iopub.status.busy": "2023-02-07T13:03:36.872037Z",
     "iopub.status.idle": "2023-02-07T13:03:36.966800Z",
     "shell.execute_reply": "2023-02-07T13:03:36.965466Z"
    },
    "papermill": {
     "duration": 0.101942,
     "end_time": "2023-02-07T13:03:36.969365",
     "exception": false,
     "start_time": "2023-02-07T13:03:36.867423",
     "status": "completed"
    },
    "tags": []
   },
   "outputs": [
    {
     "data": {
      "text/html": [
       "<div>\n",
       "<style scoped>\n",
       "    .dataframe tbody tr th:only-of-type {\n",
       "        vertical-align: middle;\n",
       "    }\n",
       "\n",
       "    .dataframe tbody tr th {\n",
       "        vertical-align: top;\n",
       "    }\n",
       "\n",
       "    .dataframe thead th {\n",
       "        text-align: right;\n",
       "    }\n",
       "</style>\n",
       "<table border=\"1\" class=\"dataframe\">\n",
       "  <thead>\n",
       "    <tr style=\"text-align: right;\">\n",
       "      <th></th>\n",
       "      <th>FILENAME</th>\n",
       "      <th>IDENTITY</th>\n",
       "    </tr>\n",
       "  </thead>\n",
       "  <tbody>\n",
       "    <tr>\n",
       "      <th>0</th>\n",
       "      <td>TEST_0001.jpg</td>\n",
       "      <td>KEVIN</td>\n",
       "    </tr>\n",
       "    <tr>\n",
       "      <th>1</th>\n",
       "      <td>TEST_0002.jpg</td>\n",
       "      <td>CLOTAIRE</td>\n",
       "    </tr>\n",
       "    <tr>\n",
       "      <th>2</th>\n",
       "      <td>TEST_0003.jpg</td>\n",
       "      <td>LENA</td>\n",
       "    </tr>\n",
       "    <tr>\n",
       "      <th>3</th>\n",
       "      <td>TEST_0004.jpg</td>\n",
       "      <td>JULES</td>\n",
       "    </tr>\n",
       "    <tr>\n",
       "      <th>4</th>\n",
       "      <td>TEST_0005.jpg</td>\n",
       "      <td>CHERPIN</td>\n",
       "    </tr>\n",
       "    <tr>\n",
       "      <th>...</th>\n",
       "      <td>...</td>\n",
       "      <td>...</td>\n",
       "    </tr>\n",
       "    <tr>\n",
       "      <th>41365</th>\n",
       "      <td>TEST_41366.jpg</td>\n",
       "      <td>ALEXANE</td>\n",
       "    </tr>\n",
       "    <tr>\n",
       "      <th>41366</th>\n",
       "      <td>TEST_41367.jpg</td>\n",
       "      <td>PEREIRA-SILVA</td>\n",
       "    </tr>\n",
       "    <tr>\n",
       "      <th>41367</th>\n",
       "      <td>TEST_41368.jpg</td>\n",
       "      <td>LAURENT</td>\n",
       "    </tr>\n",
       "    <tr>\n",
       "      <th>41368</th>\n",
       "      <td>TEST_41369.jpg</td>\n",
       "      <td>DEFFENSE</td>\n",
       "    </tr>\n",
       "    <tr>\n",
       "      <th>41369</th>\n",
       "      <td>TEST_41370.jpg</td>\n",
       "      <td>MELAB</td>\n",
       "    </tr>\n",
       "  </tbody>\n",
       "</table>\n",
       "<p>41370 rows × 2 columns</p>\n",
       "</div>"
      ],
      "text/plain": [
       "             FILENAME       IDENTITY\n",
       "0       TEST_0001.jpg          KEVIN\n",
       "1       TEST_0002.jpg       CLOTAIRE\n",
       "2       TEST_0003.jpg           LENA\n",
       "3       TEST_0004.jpg          JULES\n",
       "4       TEST_0005.jpg        CHERPIN\n",
       "...               ...            ...\n",
       "41365  TEST_41366.jpg        ALEXANE\n",
       "41366  TEST_41367.jpg  PEREIRA-SILVA\n",
       "41367  TEST_41368.jpg        LAURENT\n",
       "41368  TEST_41369.jpg       DEFFENSE\n",
       "41369  TEST_41370.jpg          MELAB\n",
       "\n",
       "[41370 rows x 2 columns]"
      ]
     },
     "execution_count": 6,
     "metadata": {},
     "output_type": "execute_result"
    }
   ],
   "source": [
    "data_path = \"/kaggle/input/handwriting-recognition/test_v2/test\"\n",
    "data = pd.read_csv(\"written_name_test_v2.csv\")\n",
    "data"
   ]
  },
  {
   "cell_type": "code",
   "execution_count": 7,
   "id": "2f3be00b",
   "metadata": {
    "execution": {
     "iopub.execute_input": "2023-02-07T13:03:36.978672Z",
     "iopub.status.busy": "2023-02-07T13:03:36.978277Z",
     "iopub.status.idle": "2023-02-07T13:03:36.986898Z",
     "shell.execute_reply": "2023-02-07T13:03:36.985539Z"
    },
    "papermill": {
     "duration": 0.016045,
     "end_time": "2023-02-07T13:03:36.989432",
     "exception": false,
     "start_time": "2023-02-07T13:03:36.973387",
     "status": "completed"
    },
    "tags": []
   },
   "outputs": [],
   "source": [
    "def decode_batch_predictions(pred):\n",
    "    pred = pred[:, :-2] # first two layers of ctc garbage\n",
    "    input_len = np.ones(pred.shape[0])*pred.shape[1]\n",
    "    \n",
    "    results = keras.backend.ctc_decode(pred, \n",
    "                                        input_length=input_len,\n",
    "                                        greedy=True)[0][0]\n",
    "    \n",
    "    output_text = []\n",
    "    for res in results.numpy():\n",
    "        outstr = getStringFromEncode(res)\n",
    "        output_text.append(outstr)\n",
    "    \n",
    "    # return final text results\n",
    "    return output_text"
   ]
  },
  {
   "cell_type": "code",
   "execution_count": 16,
   "id": "1d4cad8a",
   "metadata": {
    "execution": {
     "iopub.execute_input": "2023-02-07T13:03:36.998591Z",
     "iopub.status.busy": "2023-02-07T13:03:36.998209Z",
     "iopub.status.idle": "2023-02-07T13:03:39.394502Z",
     "shell.execute_reply": "2023-02-07T13:03:39.393436Z"
    },
    "papermill": {
     "duration": 2.40374,
     "end_time": "2023-02-07T13:03:39.397083",
     "exception": false,
     "start_time": "2023-02-07T13:03:36.993343",
     "status": "completed"
    },
    "tags": []
   },
   "outputs": [
    {
     "ename": "error",
     "evalue": "OpenCV(4.10.0) D:\\a\\opencv-python\\opencv-python\\opencv\\modules\\imgproc\\src\\color.cpp:196: error: (-215:Assertion failed) !_src.empty() in function 'cv::cvtColor'\n",
     "output_type": "error",
     "traceback": [
      "\u001b[1;31m---------------------------------------------------------------------------\u001b[0m",
      "\u001b[1;31merror\u001b[0m                                     Traceback (most recent call last)",
      "\u001b[1;32m~\\AppData\\Local\\Temp\\ipykernel_12576\\432156713.py\u001b[0m in \u001b[0;36m<module>\u001b[1;34m\u001b[0m\n\u001b[0;32m      5\u001b[0m \u001b[1;33m\u001b[0m\u001b[0m\n\u001b[0;32m      6\u001b[0m \u001b[1;31m# showing the image\u001b[0m\u001b[1;33m\u001b[0m\u001b[1;33m\u001b[0m\u001b[1;33m\u001b[0m\u001b[0m\n\u001b[1;32m----> 7\u001b[1;33m \u001b[0mimg\u001b[0m \u001b[1;33m=\u001b[0m \u001b[0mpreprocessImage\u001b[0m\u001b[1;33m(\u001b[0m\u001b[0mimgPath\u001b[0m\u001b[1;33m,\u001b[0m \u001b[1;33m(\u001b[0m\u001b[1;36m256\u001b[0m\u001b[1;33m,\u001b[0m\u001b[1;36m64\u001b[0m\u001b[1;33m)\u001b[0m\u001b[1;33m)\u001b[0m\u001b[1;33m\u001b[0m\u001b[1;33m\u001b[0m\u001b[0m\n\u001b[0m\u001b[0;32m      8\u001b[0m \u001b[0mplt\u001b[0m\u001b[1;33m.\u001b[0m\u001b[0mimshow\u001b[0m\u001b[1;33m(\u001b[0m\u001b[0mimg\u001b[0m\u001b[1;33m)\u001b[0m\u001b[1;33m\u001b[0m\u001b[1;33m\u001b[0m\u001b[0m\n\u001b[0;32m      9\u001b[0m \u001b[0mplt\u001b[0m\u001b[1;33m.\u001b[0m\u001b[0mtitle\u001b[0m\u001b[1;33m(\u001b[0m\u001b[0mlabel\u001b[0m\u001b[1;33m)\u001b[0m\u001b[1;33m\u001b[0m\u001b[1;33m\u001b[0m\u001b[0m\n",
      "\u001b[1;32m~\\AppData\\Local\\Temp\\ipykernel_12576\\142690907.py\u001b[0m in \u001b[0;36mpreprocessImage\u001b[1;34m(imgPath, shape)\u001b[0m\n\u001b[0;32m      1\u001b[0m \u001b[1;32mdef\u001b[0m \u001b[0mpreprocessImage\u001b[0m\u001b[1;33m(\u001b[0m\u001b[0mimgPath\u001b[0m\u001b[1;33m,\u001b[0m \u001b[0mshape\u001b[0m\u001b[1;33m)\u001b[0m\u001b[1;33m:\u001b[0m\u001b[1;33m\u001b[0m\u001b[1;33m\u001b[0m\u001b[0m\n\u001b[0;32m      2\u001b[0m     \u001b[0mimg\u001b[0m \u001b[1;33m=\u001b[0m \u001b[0mcv2\u001b[0m\u001b[1;33m.\u001b[0m\u001b[0mimread\u001b[0m\u001b[1;33m(\u001b[0m\u001b[0mimgPath\u001b[0m\u001b[1;33m)\u001b[0m\u001b[1;33m\u001b[0m\u001b[1;33m\u001b[0m\u001b[0m\n\u001b[1;32m----> 3\u001b[1;33m     \u001b[0mimg\u001b[0m \u001b[1;33m=\u001b[0m \u001b[0mcv2\u001b[0m\u001b[1;33m.\u001b[0m\u001b[0mcvtColor\u001b[0m\u001b[1;33m(\u001b[0m\u001b[0mimg\u001b[0m\u001b[1;33m,\u001b[0m \u001b[0mcv2\u001b[0m\u001b[1;33m.\u001b[0m\u001b[0mCOLOR_BGR2GRAY\u001b[0m\u001b[1;33m)\u001b[0m\u001b[1;33m\u001b[0m\u001b[1;33m\u001b[0m\u001b[0m\n\u001b[0m\u001b[0;32m      4\u001b[0m     \u001b[0mimg\u001b[0m \u001b[1;33m=\u001b[0m \u001b[0mcv2\u001b[0m\u001b[1;33m.\u001b[0m\u001b[0mresize\u001b[0m\u001b[1;33m(\u001b[0m\u001b[0mimg\u001b[0m\u001b[1;33m,\u001b[0m \u001b[1;33m(\u001b[0m\u001b[0mshape\u001b[0m\u001b[1;33m)\u001b[0m\u001b[1;33m)\u001b[0m\u001b[1;33m\u001b[0m\u001b[1;33m\u001b[0m\u001b[0m\n\u001b[0;32m      5\u001b[0m     \u001b[0mimg\u001b[0m \u001b[1;33m=\u001b[0m \u001b[1;33m(\u001b[0m\u001b[0mimg\u001b[0m\u001b[1;33m/\u001b[0m\u001b[1;36m255\u001b[0m\u001b[1;33m)\u001b[0m\u001b[1;33m.\u001b[0m\u001b[0mastype\u001b[0m\u001b[1;33m(\u001b[0m\u001b[0mnp\u001b[0m\u001b[1;33m.\u001b[0m\u001b[0mfloat32\u001b[0m\u001b[1;33m)\u001b[0m\u001b[1;33m\u001b[0m\u001b[1;33m\u001b[0m\u001b[0m\n",
      "\u001b[1;31merror\u001b[0m: OpenCV(4.10.0) D:\\a\\opencv-python\\opencv-python\\opencv\\modules\\imgproc\\src\\color.cpp:196: error: (-215:Assertion failed) !_src.empty() in function 'cv::cvtColor'\n"
     ]
    }
   ],
   "source": [
    "# reading image and label\n",
    "index = 10\n",
    "imgPath = os.path.join(data_path, data[\"FILENAME\"][index])\n",
    "label = data[\"IDENTITY\"][index]\n",
    "\n",
    "# showing the image\n",
    "img = preprocessImage(imgPath, (256,64))\n",
    "plt.imshow(img)\n",
    "plt.title(label)\n",
    "\n",
    "#predicing \n",
    "img = np.expand_dims(img, axis=0)\n",
    "img.shape\n",
    "\n",
    "preds = model.predict(img)\n",
    "pred_texts = decode_batch_predictions(preds)\n",
    "pred_texts\n"
   ]
  }
 ],
 "metadata": {
  "kernelspec": {
   "display_name": "Python 3",
   "language": "python",
   "name": "python3"
  },
  "language_info": {
   "codemirror_mode": {
    "name": "ipython",
    "version": 3
   },
   "file_extension": ".py",
   "mimetype": "text/x-python",
   "name": "python",
   "nbconvert_exporter": "python",
   "pygments_lexer": "ipython3",
   "version": "3.7.9"
  },
  "papermill": {
   "default_parameters": {},
   "duration": 24.164392,
   "end_time": "2023-02-07T13:03:42.583831",
   "environment_variables": {},
   "exception": null,
   "input_path": "__notebook__.ipynb",
   "output_path": "__notebook__.ipynb",
   "parameters": {},
   "start_time": "2023-02-07T13:03:18.419439",
   "version": "2.3.4"
  }
 },
 "nbformat": 4,
 "nbformat_minor": 5
}
